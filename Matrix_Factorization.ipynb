{
 "cells": [
  {
   "cell_type": "code",
   "execution_count": 64,
   "metadata": {},
   "outputs": [],
   "source": [
    "import math\n",
    "from datetime import datetime\n",
    "\n",
    "import pandas as pd\n",
    "from pandas import DataFrame\n",
    "import numpy as np"
   ]
  },
  {
   "cell_type": "markdown",
   "metadata": {},
   "source": [
    "### Load Data"
   ]
  },
  {
   "cell_type": "code",
   "execution_count": 65,
   "metadata": {},
   "outputs": [],
   "source": [
    "rating_df = pd.read_csv(\"./ml-25m/ratings.csv\")\n",
    "movie_df = pd.read_csv(\"./ml-25m/movies.csv\")\n",
    "genre_df = pd.read_csv(\"./ml-25m/genome-scores.csv\")"
   ]
  },
  {
   "cell_type": "code",
   "execution_count": 66,
   "metadata": {},
   "outputs": [
    {
     "data": {
      "text/plain": [
       "(userId       0\n",
       " movieId      0\n",
       " rating       0\n",
       " timestamp    0\n",
       " dtype: int64,\n",
       " movieId    0\n",
       " title      0\n",
       " genres     0\n",
       " dtype: int64,\n",
       " movieId      0\n",
       " tagId        0\n",
       " relevance    0\n",
       " dtype: int64)"
      ]
     },
     "execution_count": 66,
     "metadata": {},
     "output_type": "execute_result"
    }
   ],
   "source": [
    "rating_df.isnull().sum(), movie_df.isnull().sum(), genre_df.isnull().sum()"
   ]
  },
  {
   "cell_type": "markdown",
   "metadata": {},
   "source": [
    "### 결측치 확인"
   ]
  },
  {
   "cell_type": "code",
   "execution_count": 67,
   "metadata": {},
   "outputs": [],
   "source": [
    "rating_df = rating_df.sort_values(['timestamp', 'userId'])"
   ]
  },
  {
   "cell_type": "code",
   "execution_count": 68,
   "metadata": {},
   "outputs": [],
   "source": [
    "train_df = rating_df[(rating_df['timestamp'] >= 1104505203) & (rating_df['timestamp'] <= 1230735592)]\n",
    "test_df = rating_df[rating_df['timestamp'] >= 1230735600]"
   ]
  },
  {
   "cell_type": "code",
   "execution_count": 69,
   "metadata": {},
   "outputs": [
    {
     "name": "stdout",
     "output_type": "stream",
     "text": [
      "Train:  28.629003411388805\n",
      "Test:  71.37099658861119\n"
     ]
    }
   ],
   "source": [
    "print(\"Train: \", len(train_df) / (len(train_df) + len(test_df)) * 100) # train data is too small...\n",
    "print(\"Test: \", len(test_df) / (len(train_df) + len(test_df)) * 100)"
   ]
  },
  {
   "cell_type": "markdown",
   "metadata": {},
   "source": [
    "### Pivot Table"
   ]
  },
  {
   "cell_type": "code",
   "execution_count": 70,
   "metadata": {},
   "outputs": [
    {
     "data": {
      "text/html": [
       "<div>\n",
       "<style scoped>\n",
       "    .dataframe tbody tr th:only-of-type {\n",
       "        vertical-align: middle;\n",
       "    }\n",
       "\n",
       "    .dataframe tbody tr th {\n",
       "        vertical-align: top;\n",
       "    }\n",
       "\n",
       "    .dataframe thead th {\n",
       "        text-align: right;\n",
       "    }\n",
       "</style>\n",
       "<table border=\"1\" class=\"dataframe\">\n",
       "  <thead>\n",
       "    <tr style=\"text-align: right;\">\n",
       "      <th>movieId</th>\n",
       "      <th>1</th>\n",
       "      <th>2</th>\n",
       "      <th>3</th>\n",
       "      <th>4</th>\n",
       "      <th>5</th>\n",
       "      <th>6</th>\n",
       "      <th>7</th>\n",
       "      <th>8</th>\n",
       "      <th>9</th>\n",
       "      <th>10</th>\n",
       "      <th>...</th>\n",
       "      <th>64957</th>\n",
       "      <th>64969</th>\n",
       "      <th>64976</th>\n",
       "      <th>64983</th>\n",
       "      <th>64986</th>\n",
       "      <th>64990</th>\n",
       "      <th>64993</th>\n",
       "      <th>64997</th>\n",
       "      <th>65011</th>\n",
       "      <th>65025</th>\n",
       "    </tr>\n",
       "    <tr>\n",
       "      <th>userId</th>\n",
       "      <th></th>\n",
       "      <th></th>\n",
       "      <th></th>\n",
       "      <th></th>\n",
       "      <th></th>\n",
       "      <th></th>\n",
       "      <th></th>\n",
       "      <th></th>\n",
       "      <th></th>\n",
       "      <th></th>\n",
       "      <th></th>\n",
       "      <th></th>\n",
       "      <th></th>\n",
       "      <th></th>\n",
       "      <th></th>\n",
       "      <th></th>\n",
       "      <th></th>\n",
       "      <th></th>\n",
       "      <th></th>\n",
       "      <th></th>\n",
       "      <th></th>\n",
       "    </tr>\n",
       "  </thead>\n",
       "  <tbody>\n",
       "    <tr>\n",
       "      <th>1</th>\n",
       "      <td>0.0</td>\n",
       "      <td>0.0</td>\n",
       "      <td>0.0</td>\n",
       "      <td>0.0</td>\n",
       "      <td>0.0</td>\n",
       "      <td>0.0</td>\n",
       "      <td>0.0</td>\n",
       "      <td>0.0</td>\n",
       "      <td>0.0</td>\n",
       "      <td>0.0</td>\n",
       "      <td>...</td>\n",
       "      <td>0.0</td>\n",
       "      <td>0.0</td>\n",
       "      <td>0.0</td>\n",
       "      <td>0.0</td>\n",
       "      <td>0.0</td>\n",
       "      <td>0.0</td>\n",
       "      <td>0.0</td>\n",
       "      <td>0.0</td>\n",
       "      <td>0.0</td>\n",
       "      <td>0.0</td>\n",
       "    </tr>\n",
       "    <tr>\n",
       "      <th>2</th>\n",
       "      <td>3.5</td>\n",
       "      <td>0.0</td>\n",
       "      <td>0.0</td>\n",
       "      <td>0.0</td>\n",
       "      <td>0.0</td>\n",
       "      <td>0.0</td>\n",
       "      <td>0.0</td>\n",
       "      <td>0.0</td>\n",
       "      <td>0.0</td>\n",
       "      <td>0.0</td>\n",
       "      <td>...</td>\n",
       "      <td>0.0</td>\n",
       "      <td>0.0</td>\n",
       "      <td>0.0</td>\n",
       "      <td>0.0</td>\n",
       "      <td>0.0</td>\n",
       "      <td>0.0</td>\n",
       "      <td>0.0</td>\n",
       "      <td>0.0</td>\n",
       "      <td>0.0</td>\n",
       "      <td>0.0</td>\n",
       "    </tr>\n",
       "    <tr>\n",
       "      <th>10</th>\n",
       "      <td>3.5</td>\n",
       "      <td>0.0</td>\n",
       "      <td>0.0</td>\n",
       "      <td>0.0</td>\n",
       "      <td>0.0</td>\n",
       "      <td>0.0</td>\n",
       "      <td>0.0</td>\n",
       "      <td>0.0</td>\n",
       "      <td>0.0</td>\n",
       "      <td>0.0</td>\n",
       "      <td>...</td>\n",
       "      <td>0.0</td>\n",
       "      <td>0.0</td>\n",
       "      <td>0.0</td>\n",
       "      <td>0.0</td>\n",
       "      <td>0.0</td>\n",
       "      <td>0.0</td>\n",
       "      <td>0.0</td>\n",
       "      <td>0.0</td>\n",
       "      <td>0.0</td>\n",
       "      <td>0.0</td>\n",
       "    </tr>\n",
       "    <tr>\n",
       "      <th>11</th>\n",
       "      <td>0.0</td>\n",
       "      <td>0.0</td>\n",
       "      <td>0.0</td>\n",
       "      <td>0.0</td>\n",
       "      <td>0.0</td>\n",
       "      <td>0.0</td>\n",
       "      <td>0.0</td>\n",
       "      <td>0.0</td>\n",
       "      <td>0.0</td>\n",
       "      <td>0.0</td>\n",
       "      <td>...</td>\n",
       "      <td>0.0</td>\n",
       "      <td>0.0</td>\n",
       "      <td>0.0</td>\n",
       "      <td>0.0</td>\n",
       "      <td>0.0</td>\n",
       "      <td>0.0</td>\n",
       "      <td>0.0</td>\n",
       "      <td>0.0</td>\n",
       "      <td>0.0</td>\n",
       "      <td>0.0</td>\n",
       "    </tr>\n",
       "    <tr>\n",
       "      <th>12</th>\n",
       "      <td>4.0</td>\n",
       "      <td>0.0</td>\n",
       "      <td>2.0</td>\n",
       "      <td>0.0</td>\n",
       "      <td>0.0</td>\n",
       "      <td>0.0</td>\n",
       "      <td>0.0</td>\n",
       "      <td>0.0</td>\n",
       "      <td>0.0</td>\n",
       "      <td>0.0</td>\n",
       "      <td>...</td>\n",
       "      <td>0.0</td>\n",
       "      <td>0.0</td>\n",
       "      <td>0.0</td>\n",
       "      <td>0.0</td>\n",
       "      <td>0.0</td>\n",
       "      <td>0.0</td>\n",
       "      <td>0.0</td>\n",
       "      <td>0.0</td>\n",
       "      <td>0.0</td>\n",
       "      <td>0.0</td>\n",
       "    </tr>\n",
       "  </tbody>\n",
       "</table>\n",
       "<p>5 rows × 10533 columns</p>\n",
       "</div>"
      ],
      "text/plain": [
       "movieId  1      2      3      4      5      6      7      8      9      10     \\\n",
       "userId                                                                          \n",
       "1          0.0    0.0    0.0    0.0    0.0    0.0    0.0    0.0    0.0    0.0   \n",
       "2          3.5    0.0    0.0    0.0    0.0    0.0    0.0    0.0    0.0    0.0   \n",
       "10         3.5    0.0    0.0    0.0    0.0    0.0    0.0    0.0    0.0    0.0   \n",
       "11         0.0    0.0    0.0    0.0    0.0    0.0    0.0    0.0    0.0    0.0   \n",
       "12         4.0    0.0    2.0    0.0    0.0    0.0    0.0    0.0    0.0    0.0   \n",
       "\n",
       "movieId  ...  64957  64969  64976  64983  64986  64990  64993  64997  65011  \\\n",
       "userId   ...                                                                  \n",
       "1        ...    0.0    0.0    0.0    0.0    0.0    0.0    0.0    0.0    0.0   \n",
       "2        ...    0.0    0.0    0.0    0.0    0.0    0.0    0.0    0.0    0.0   \n",
       "10       ...    0.0    0.0    0.0    0.0    0.0    0.0    0.0    0.0    0.0   \n",
       "11       ...    0.0    0.0    0.0    0.0    0.0    0.0    0.0    0.0    0.0   \n",
       "12       ...    0.0    0.0    0.0    0.0    0.0    0.0    0.0    0.0    0.0   \n",
       "\n",
       "movieId  65025  \n",
       "userId          \n",
       "1          0.0  \n",
       "2          0.0  \n",
       "10         0.0  \n",
       "11         0.0  \n",
       "12         0.0  \n",
       "\n",
       "[5 rows x 10533 columns]"
      ]
     },
     "execution_count": 70,
     "metadata": {},
     "output_type": "execute_result"
    }
   ],
   "source": [
    "# train_df = train_df.set_index(\"userId\")\n",
    "\n",
    "# Construct rating Matrix\n",
    "train_df = train_df.groupby([\"userId\", \"movieId\"])['rating'].sum().unstack()\n",
    "\n",
    "# fill 0 value in NaN\n",
    "train_df = train_df.fillna(0)\n",
    "\n",
    "train_df.head()"
   ]
  },
  {
   "cell_type": "code",
   "execution_count": 71,
   "metadata": {},
   "outputs": [],
   "source": [
    "train_data = train_df.values"
   ]
  },
  {
   "cell_type": "markdown",
   "metadata": {},
   "source": [
    "### matrix decomposition"
   ]
  },
  {
   "cell_type": "code",
   "execution_count": 72,
   "metadata": {},
   "outputs": [],
   "source": [
    "# U, s, VT = np.linalg.svd(new_train, compute_uv = True)"
   ]
  },
  {
   "cell_type": "code",
   "execution_count": 73,
   "metadata": {},
   "outputs": [],
   "source": [
    "# r = s.shape[0] - sum(lx < 1.e-8 for lx in s)"
   ]
  },
  {
   "cell_type": "code",
   "execution_count": 74,
   "metadata": {},
   "outputs": [],
   "source": [
    "# svd를 하고 다시 복원을 하면 빈 값들이 채워진다. 이것을 모델로 만들어서 사용?\n",
    "# SVD 자체를 numpy로 구현하고 Train data 사용 모델링, 피팅 이후 Test data로 평가...?\n",
    "# SVD 를 사용 \n",
    "# 모든 형태의 Matrix에 적용 가능\n",
    "# U: AAT 의 고유벡터\n",
    "# V: ATA 의 고유벡터"
   ]
  },
  {
   "cell_type": "markdown",
   "metadata": {},
   "source": [
    "### r = qTp구현\n",
    "\n",
    "- Singular Value Decomposition U, s, Vt = svd(new_train)\n",
    "- new_train data is too sparse\n",
    "- U: AAT 의 고유벡터\n",
    "- s: A의 특이값들을 대각항으로 가지는 대각행렬\n",
    "- VT: ATA의 고유벡터\n",
    "- s는 eigenvalue에 sqrt값을 취한 값으로 scaling으로 볼수 있음"
   ]
  },
  {
   "cell_type": "code",
   "execution_count": 75,
   "metadata": {},
   "outputs": [],
   "source": [
    "lr = 0.01\n",
    "lm = 0.001\n",
    "epoch = 10"
   ]
  },
  {
   "cell_type": "code",
   "execution_count": 76,
   "metadata": {},
   "outputs": [],
   "source": [
    "U, s, VT = np.linalg.svd(train_data, compute_uv=True)"
   ]
  },
  {
   "cell_type": "code",
   "execution_count": 77,
   "metadata": {},
   "outputs": [],
   "source": [
    "r = s.shape[0] - sum(lx < 1.e-8 for lx in s) # s.shape[0] - sum(s < 1.e-8)\n",
    "\n",
    "sqrt_s = np.array([math.sqrt(a) for a in s]) # np.sqrt(s)"
   ]
  },
  {
   "cell_type": "code",
   "execution_count": 78,
   "metadata": {},
   "outputs": [],
   "source": [
    "pu = U[:, :r] @ np.diag(sqrt_s[:r])\n",
    "qi = np.diag(sqrt_s[:r]) @ VT[:r, :]"
   ]
  },
  {
   "cell_type": "code",
   "execution_count": 79,
   "metadata": {},
   "outputs": [
    {
     "name": "stdout",
     "output_type": "stream",
     "text": [
      "epoch : 1 / datetime : 2020-09-08 17:20:52.748381 / loss : 2.4571335762598183e-21\n",
      "epoch : 2 / datetime : 2020-09-08 17:22:33.722755 / loss : 0.024134378354751043\n",
      "epoch : 3 / datetime : 2020-09-08 17:24:11.701134 / loss : 0.09636490511179578\n",
      "epoch : 4 / datetime : 2020-09-08 17:25:51.035957 / loss : 0.21592755122088877\n",
      "epoch : 5 / datetime : 2020-09-08 17:27:28.872396 / loss : 0.38141903381029885\n",
      "epoch : 6 / datetime : 2020-09-08 17:29:09.964341 / loss : 0.5908709071632912\n",
      "epoch : 7 / datetime : 2020-09-08 17:30:50.621690 / loss : 0.8418544756489272\n",
      "epoch : 8 / datetime : 2020-09-08 17:32:33.408689 / loss : 1.131606119496684\n",
      "epoch : 9 / datetime : 2020-09-08 17:34:09.233265 / loss : 1.4571612698716248\n",
      "epoch : 10 / datetime : 2020-09-08 17:35:49.500872 / loss : 1.815485721267283\n"
     ]
    }
   ],
   "source": [
    "for _ in range(1, epoch+1):\n",
    "    R_hat = pu @ qi\n",
    "    \n",
    "    err = (train_data - R_hat)**2\n",
    "    \n",
    "    new_qi = qi + (lr * ((pu.T @ err) - (lm * qi)))\n",
    "    new_pu = pu + (lr * ((err @ qi.T) - (lm * pu)))\n",
    "    \n",
    "    qi, pu = new_qi, new_pu\n",
    "    print(\"epoch : {} / datetime : {} / loss : {}\".format(_, datetime.now(), err.sum()))"
   ]
  },
  {
   "cell_type": "code",
   "execution_count": 80,
   "metadata": {},
   "outputs": [],
   "source": [
    "# pu * qi => rating"
   ]
  },
  {
   "cell_type": "markdown",
   "metadata": {},
   "source": [
    "# numpy로 데이터 읽어오기"
   ]
  },
  {
   "cell_type": "code",
   "execution_count": 2,
   "metadata": {},
   "outputs": [],
   "source": [
    "data = np.genfromtxt(\"./ml-25m/ratings.csv\", delimiter=\",\", names=True)"
   ]
  },
  {
   "cell_type": "code",
   "execution_count": 3,
   "metadata": {},
   "outputs": [
    {
     "data": {
      "text/plain": [
       "(25000095,\n",
       " array([(1.00000e+00,   296., 5. , 1.14788004e+09),\n",
       "        (1.00000e+00,   306., 3.5, 1.14786882e+09),\n",
       "        (1.00000e+00,   307., 5. , 1.14786883e+09), ...,\n",
       "        (1.62541e+05, 56176., 2. , 1.24095070e+09),\n",
       "        (1.62541e+05, 58559., 4. , 1.24095343e+09),\n",
       "        (1.62541e+05, 63876., 5. , 1.24095252e+09)],\n",
       "       dtype=[('userId', '<f8'), ('movieId', '<f8'), ('rating', '<f8'), ('timestamp', '<f8')]),\n",
       " (25000095,))"
      ]
     },
     "execution_count": 3,
     "metadata": {},
     "output_type": "execute_result"
    }
   ],
   "source": [
    "len(data), data, data.shape"
   ]
  },
  {
   "cell_type": "code",
   "execution_count": 4,
   "metadata": {},
   "outputs": [
    {
     "name": "stdout",
     "output_type": "stream",
     "text": [
      "[[1.00000000e+00 2.96000000e+02 5.00000000e+00 1.14788004e+09]\n",
      " [1.00000000e+00 3.06000000e+02 3.50000000e+00 1.14786882e+09]\n",
      " [1.00000000e+00 3.07000000e+02 5.00000000e+00 1.14786883e+09]\n",
      " ...\n",
      " [1.62521000e+05 5.96150000e+04 3.50000000e+00 1.21933944e+09]\n",
      " [1.62521000e+05 5.97250000e+04 4.00000000e+00 1.21933939e+09]\n",
      " [1.62521000e+05 6.00740000e+04 4.00000000e+00 1.21933941e+09]]\n"
     ]
    }
   ],
   "source": [
    "# timestamp 기준으로 나누기\n",
    "train_data = np.array([list(i) for i in data if 1104505203 <= i[3] <= 1230735592])\n",
    "test_data = np.array([list(i) for i in data if i[3] >= 1230735600])\n",
    "print(train_data)"
   ]
  },
  {
   "cell_type": "code",
   "execution_count": 5,
   "metadata": {},
   "outputs": [],
   "source": [
    "user_id = np.unique(np.array([i[0] for i in train_data]))  # (27915,))\n",
    "movie_id = np.unique(np.array([i[1] for i in train_data]))  # (10533,))\n",
    "rating = np.array([i[2] for i in train_data])"
   ]
  },
  {
   "cell_type": "code",
   "execution_count": 55,
   "metadata": {},
   "outputs": [],
   "source": [
    "from collections import defaultdict\n",
    "\n",
    "rating_dict = defaultdict(dict)\n",
    "for i in train_data:\n",
    "    rating_dict[i[0]][i[1]] = i[2]"
   ]
  },
  {
   "cell_type": "code",
   "execution_count": 56,
   "metadata": {},
   "outputs": [],
   "source": [
    "# movie_id의 id가 각 키의 values에 없다면, movie-id를 추가하고 값을 0으로 넣는다. 이 과정을 거치면 fillna(0)과 같은 효과\n",
    "# 그리고 추가된 rating_dict에서 key를 row, values flatten하게 쌓으면된다.\n",
    "# user_id (27915,))\n",
    "# movie_id (10533,))\n",
    "for i in range(len(user_id)):\n",
    "    for j in range(len(movie_id)):\n",
    "        if movie_id[j] not in rating_dict[user_id[i]].keys():\n",
    "            rating_dict[user_id[i]][movie_id[j]] = 0.0\n",
    "#         else:\n",
    "#             pass"
   ]
  },
  {
   "cell_type": "code",
   "execution_count": 58,
   "metadata": {},
   "outputs": [
    {
     "ename": "AttributeError",
     "evalue": "'dict_keys' object has no attribute 'item'",
     "output_type": "error",
     "traceback": [
      "\u001b[0;31m---------------------------------------------------------------------------\u001b[0m",
      "\u001b[0;31mAttributeError\u001b[0m                            Traceback (most recent call last)",
      "\u001b[0;32m<ipython-input-58-80a1f346df45>\u001b[0m in \u001b[0;36m<module>\u001b[0;34m\u001b[0m\n\u001b[1;32m      1\u001b[0m \u001b[0;31m# rating_dict의 키(user_id)마다 movie_id를 기준으로 내림차순 정렬\u001b[0m\u001b[0;34m\u001b[0m\u001b[0;34m\u001b[0m\u001b[0;34m\u001b[0m\u001b[0m\n\u001b[1;32m      2\u001b[0m \u001b[0;31m# rating_dict =\u001b[0m\u001b[0;34m\u001b[0m\u001b[0;34m\u001b[0m\u001b[0;34m\u001b[0m\u001b[0m\n\u001b[0;32m----> 3\u001b[0;31m \u001b[0msorted\u001b[0m\u001b[0;34m(\u001b[0m\u001b[0mrating_dict\u001b[0m\u001b[0;34m.\u001b[0m\u001b[0mkeys\u001b[0m\u001b[0;34m(\u001b[0m\u001b[0;34m)\u001b[0m\u001b[0;34m.\u001b[0m\u001b[0mitem\u001b[0m\u001b[0;34m(\u001b[0m\u001b[0;34m)\u001b[0m\u001b[0;34m)\u001b[0m\u001b[0;34m\u001b[0m\u001b[0;34m\u001b[0m\u001b[0m\n\u001b[0m\u001b[1;32m      4\u001b[0m \u001b[0;31m# rating_dict\u001b[0m\u001b[0;34m\u001b[0m\u001b[0;34m\u001b[0m\u001b[0;34m\u001b[0m\u001b[0m\n",
      "\u001b[0;31mAttributeError\u001b[0m: 'dict_keys' object has no attribute 'item'"
     ]
    }
   ],
   "source": [
    "# rating_dict의 키(user_id)마다 movie_id를 기준으로 내림차순 정렬, matrix로 재구성\n",
    "rating_matrix = []\n",
    "for i in range(len(rating_dict)):\n",
    "    sorted(rating_dict[user_id[i]])"
   ]
  }
 ],
 "metadata": {
  "kernelspec": {
   "display_name": "Python 3",
   "language": "python",
   "name": "python3"
  },
  "language_info": {
   "codemirror_mode": {
    "name": "ipython",
    "version": 3
   },
   "file_extension": ".py",
   "mimetype": "text/x-python",
   "name": "python",
   "nbconvert_exporter": "python",
   "pygments_lexer": "ipython3",
   "version": "3.8.3"
  }
 },
 "nbformat": 4,
 "nbformat_minor": 4
}
