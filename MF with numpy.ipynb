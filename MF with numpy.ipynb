{
 "cells": [
  {
   "cell_type": "code",
   "execution_count": 8,
   "metadata": {},
   "outputs": [],
   "source": [
    "# install surprise: conda install -c conda-forge scikit-surprise\n",
    "import os\n",
    "import numpy as np\n",
    "import surprise\n",
    "import pandas as pd\n",
    "import surprise\n",
    "from surprise import Reader, Dataset"
   ]
  },
  {
   "cell_type": "markdown",
   "metadata": {},
   "source": [
    "# numpy로 데이터 읽어오기"
   ]
  },
  {
   "cell_type": "code",
   "execution_count": 9,
   "metadata": {},
   "outputs": [
    {
     "data": {
      "text/plain": [
       "(25000095,\n",
       " array([(1.00000e+00,   296., 5. , 1.14788004e+09),\n",
       "        (1.00000e+00,   306., 3.5, 1.14786882e+09),\n",
       "        (1.00000e+00,   307., 5. , 1.14786883e+09), ...,\n",
       "        (1.62541e+05, 56176., 2. , 1.24095070e+09),\n",
       "        (1.62541e+05, 58559., 4. , 1.24095343e+09),\n",
       "        (1.62541e+05, 63876., 5. , 1.24095252e+09)],\n",
       "       dtype=[('userId', '<f8'), ('movieId', '<f8'), ('rating', '<f8'), ('timestamp', '<f8')]),\n",
       " (25000095,))"
      ]
     },
     "execution_count": 9,
     "metadata": {},
     "output_type": "execute_result"
    }
   ],
   "source": [
    "data = np.genfromtxt(\"./ml-25m/ratings.csv\", delimiter=\",\", names=True)\n",
    "\n",
    "len(data), data, data.shape"
   ]
  },
  {
   "cell_type": "code",
   "execution_count": 10,
   "metadata": {},
   "outputs": [
    {
     "name": "stdout",
     "output_type": "stream",
     "text": [
      "[[1.00000000e+00 2.96000000e+02 5.00000000e+00 1.14788004e+09]\n",
      " [1.00000000e+00 3.06000000e+02 3.50000000e+00 1.14786882e+09]\n",
      " [1.00000000e+00 3.07000000e+02 5.00000000e+00 1.14786883e+09]\n",
      " ...\n",
      " [1.62521000e+05 5.96150000e+04 3.50000000e+00 1.21933944e+09]\n",
      " [1.62521000e+05 5.97250000e+04 4.00000000e+00 1.21933939e+09]\n",
      " [1.62521000e+05 6.00740000e+04 4.00000000e+00 1.21933941e+09]]\n"
     ]
    }
   ],
   "source": [
    "# timestamp 기준으로 나누기\n",
    "train_data = np.array([list(i) for i in data if 1104505203 <= i[3] <= 1230735592])\n",
    "test_data = np.array([list(i) for i in data if i[3] >= 1230735600])\n",
    "print(train_data)"
   ]
  },
  {
   "cell_type": "markdown",
   "metadata": {},
   "source": [
    "# 이후로 LightFM or Surprise package 사용해서 구현해보기"
   ]
  },
  {
   "cell_type": "code",
   "execution_count": null,
   "metadata": {},
   "outputs": [],
   "source": [
    "user_id = np.unique(np.array([i[0] for i in train_data]))  # (27915,))\n",
    "movie_id = np.unique(np.array([i[1] for i in train_data]))  # (10533,))\n",
    "rating = np.array([i[2] for i in train_data])"
   ]
  },
  {
   "cell_type": "code",
   "execution_count": null,
   "metadata": {},
   "outputs": [],
   "source": [
    "from collections import defaultdict\n",
    "\n",
    "rating_dict = defaultdict(dict)\n",
    "for i in train_data:\n",
    "    rating_dict[i[0]][i[1]] = i[2]"
   ]
  },
  {
   "cell_type": "code",
   "execution_count": null,
   "metadata": {},
   "outputs": [],
   "source": [
    "# movie_id의 id가 각 키의 values에 없다면, movie-id를 추가하고 값을 0으로 넣는다. 이 과정을 거치면 fillna(0)과 같은 효과\n",
    "# 그리고 추가된 rating_dict에서 key를 row, values flatten하게 쌓으면된다.\n",
    "# user_id (27915,))\n",
    "# movie_id (10533,))\n",
    "for i in range(len(user_id)):\n",
    "    for j in range(len(movie_id)):\n",
    "        if movie_id[j] not in rating_dict[user_id[i]].keys():\n",
    "            rating_dict[user_id[i]][movie_id[j]] = 0.0\n",
    "        else:\n",
    "            pass"
   ]
  },
  {
   "cell_type": "code",
   "execution_count": null,
   "metadata": {},
   "outputs": [],
   "source": [
    "# # rating_dict의 키(user_id)마다 movie_id를 기준으로 내림차순 정렬, matrix로 재구성\n",
    "# rating_matrix = []\n",
    "# for i in range(len(rating_dict)):\n",
    "#     sorted(rating_dict[user_id[i]])\n",
    "\n",
    "# rating_dict에서 movie의 개수가 같은 지 확인"
   ]
  },
  {
   "cell_type": "code",
   "execution_count": null,
   "metadata": {},
   "outputs": [],
   "source": [
    "len(rating_dict[1])  == len(rating_dict[2]) # 10533"
   ]
  },
  {
   "cell_type": "code",
   "execution_count": null,
   "metadata": {},
   "outputs": [],
   "source": [
    "rating_dic = {\n",
    "    'userId': [],\n",
    "    'movieId': [],\n",
    "    'rating': []\n",
    "}\n",
    "\n",
    "id_list = []\n",
    "mov_set = set()"
   ]
  },
  {
   "cell_type": "code",
   "execution_count": null,
   "metadata": {},
   "outputs": [],
   "source": [
    "for user_key in rating_dict.keys():\n",
    "    for mov_key in rating_dict[user_key]:\n",
    "        rating_dic[\"userId\"].append(user_key)\n",
    "        rating_dic[\"movieId\"].append(mov_key)\n",
    "        rating_dic[\"rating\"].append(rating_dict[user_key][mov_key])\n",
    "\n",
    "print(len(rating_dic[\"userId\"]))\n",
    "print(len(rating_dic[\"movieId\"]))\n",
    "print(len(rating_dic[\"rating\"]))"
   ]
  },
  {
   "cell_type": "code",
   "execution_count": null,
   "metadata": {},
   "outputs": [],
   "source": [
    "train_df = pd.DataFrame(rating_dic)\n",
    "train_df"
   ]
  },
  {
   "cell_type": "code",
   "execution_count": null,
   "metadata": {},
   "outputs": [],
   "source": [
    "reader = surprise.Reader(rating_scale=(1,5))\n",
    "reader"
   ]
  },
  {
   "cell_type": "code",
   "execution_count": null,
   "metadata": {},
   "outputs": [],
   "source": [
    "col_list = [\"userId\", \"movieId\", \"rating\"]\n",
    "\n",
    "train_data = surprise.Dataset.load_from_df(train_df[col_list], reader)\n",
    "\n",
    "trainset = train_data.build_full_trainset()\n",
    "\n",
    "algo = surprise.SVD()\n",
    "algo.fit(trainset)"
   ]
  },
  {
   "cell_type": "markdown",
   "metadata": {},
   "source": [
    "# Testset"
   ]
  },
  {
   "cell_type": "code",
   "execution_count": null,
   "metadata": {},
   "outputs": [],
   "source": [
    "from collections import defaultdict"
   ]
  },
  {
   "cell_type": "code",
   "execution_count": null,
   "metadata": {},
   "outputs": [],
   "source": [
    "test_rating_dict = defaultdict(dict)\n",
    "for i in test_data:\n",
    "    test_rating_dict[i[0]][i[1]] = i[2]"
   ]
  },
  {
   "cell_type": "code",
   "execution_count": null,
   "metadata": {},
   "outputs": [],
   "source": [
    "for i in range(len(user_id)):\n",
    "    for j in range(len(movie_id)):\n",
    "        if movie_id[j] not in test_rating_dict[user_id[i]].keys():\n",
    "            test_rating_dict[user_id[i]][movie_id[j]] = 0.0\n",
    "        else:\n",
    "            pass"
   ]
  },
  {
   "cell_type": "code",
   "execution_count": null,
   "metadata": {},
   "outputs": [],
   "source": [
    "test_rating_dic = {\n",
    "    'userId': [],\n",
    "    'movieId': [],\n",
    "    'rating': []\n",
    "}\n",
    "\n",
    "id_list = []\n",
    "mov_set = set()"
   ]
  },
  {
   "cell_type": "code",
   "execution_count": null,
   "metadata": {},
   "outputs": [],
   "source": [
    "for user_key in test_rating_dict.keys():\n",
    "    for mov_key in test_rating_dict[user_key]:\n",
    "        test_rating_dic[\"userId\"].append(user_key)\n",
    "        test_rating_dic[\"movieId\"].append(mov_key)\n",
    "        test_rating_dic[\"rating\"].append(test_rating_dict[user_key][mov_key])"
   ]
  },
  {
   "cell_type": "code",
   "execution_count": null,
   "metadata": {},
   "outputs": [],
   "source": [
    "test_df = pd.DataFrame(test_rating_dic)\n",
    "test_df"
   ]
  },
  {
   "cell_type": "code",
   "execution_count": null,
   "metadata": {},
   "outputs": [],
   "source": [
    "test_data = surprise.Dataset.load_from_df(test_df[col_list], reader)\n",
    "testset = test_data.build_full_trainset()\n",
    "\n",
    "testset = testset.build_testset()\n",
    "predictions = algo.test(testset)\n",
    "\n",
    "from surprise import accuracy\n",
    "accuracy.rmse(predictions)\n",
    "\n",
    "test_df"
   ]
  },
  {
   "cell_type": "markdown",
   "metadata": {},
   "source": [
    "# 너무 커서 돌아가지 않음"
   ]
  },
  {
   "cell_type": "code",
   "execution_count": null,
   "metadata": {},
   "outputs": [],
   "source": []
  }
 ],
 "metadata": {
  "kernelspec": {
   "display_name": "Python 3",
   "language": "python",
   "name": "python3"
  },
  "language_info": {
   "codemirror_mode": {
    "name": "ipython",
    "version": 3
   },
   "file_extension": ".py",
   "mimetype": "text/x-python",
   "name": "python",
   "nbconvert_exporter": "python",
   "pygments_lexer": "ipython3",
   "version": "3.7.6"
  }
 },
 "nbformat": 4,
 "nbformat_minor": 4
}
